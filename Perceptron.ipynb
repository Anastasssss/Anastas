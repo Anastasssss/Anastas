{
  "nbformat": 4,
  "nbformat_minor": 0,
  "metadata": {
    "colab": {
      "provenance": []
    },
    "kernelspec": {
      "name": "python3",
      "display_name": "Python 3"
    },
    "language_info": {
      "name": "python"
    }
  },
  "cells": [
    {
      "cell_type": "code",
      "source": [
        "from keras.utils import np_utils \n",
        "from keras.datasets import mnist \n",
        "\n",
        "\n",
        "from keras.models import Sequential \n",
        "from keras.layers import Dense, Activation \n",
        "\n",
        "\n",
        "from keras.initializers import RandomNormal"
      ],
      "metadata": {
        "id": "H0FSRbG3zPWn"
      },
      "execution_count": null,
      "outputs": []
    },
    {
      "cell_type": "code",
      "source": [
        "(X_train, y_train), (X_test, y_test) = mnist.load_data()"
      ],
      "metadata": {
        "id": "beNuYw5VzQK2",
        "colab": {
          "base_uri": "https://localhost:8080/"
        },
        "outputId": "20e87e41-48d8-4977-d2b2-824ff7304ec0"
      },
      "execution_count": null,
      "outputs": [
        {
          "output_type": "stream",
          "name": "stdout",
          "text": [
            "Downloading data from https://storage.googleapis.com/tensorflow/tf-keras-datasets/mnist.npz\n",
            "11490434/11490434 [==============================] - 0s 0us/step\n"
          ]
        }
      ]
    },
    {
      "cell_type": "code",
      "source": [
        "print(\"Количество тренировочных :\", X_train.shape[0], \"Размерность (%d, %d)\"%(X_train.shape[1], X_train.shape[2]))\n",
        "print(\"Количество тестовых :\", X_test.shape[0], \"Размерность (%d, %d)\"%(X_test.shape[1], X_test.shape[2]))\n"
      ],
      "metadata": {
        "colab": {
          "base_uri": "https://localhost:8080/"
        },
        "id": "fTu9XygKzSZs",
        "outputId": "53ac7357-1fcf-4535-b7f9-c3a158e0ce99"
      },
      "execution_count": null,
      "outputs": [
        {
          "output_type": "stream",
          "name": "stdout",
          "text": [
            "Количество тренировочных : 60000 Размерность (28, 28)\n",
            "Количество тестовых : 10000 Размерность (28, 28)\n"
          ]
        }
      ]
    },
    {
      "cell_type": "code",
      "source": [
        "X_train = X_train.reshape(X_train.shape[0], X_train.shape[1]*X_train.shape[2]) \n",
        "X_test = X_test.reshape(X_test.shape[0], X_test.shape[1]*X_test.shape[2]) \n",
        "\n",
        "# after converting the input images from 3d to 2d vectors\n",
        "\n",
        "print(\"Количество тренировочных :\", X_train.shape[0], \"Размерность (%d)\"%(X_train.shape[1]))\n",
        "print(\"Количество тестовых :\", X_test.shape[0], \"Размерность (%d)\"%(X_test.shape[1]))\n"
      ],
      "metadata": {
        "colab": {
          "base_uri": "https://localhost:8080/"
        },
        "id": "iXqfJL6szXar",
        "outputId": "312354ec-ee82-4e66-b1f2-fbad2caaed9a"
      },
      "execution_count": null,
      "outputs": [
        {
          "output_type": "stream",
          "name": "stdout",
          "text": [
            "Количество тренировочных : 60000 Размерность (784)\n",
            "Количество тестовых : 10000 Размерность (784)\n"
          ]
        }
      ]
    },
    {
      "cell_type": "code",
      "source": [
        "# Нормализация от 0 до 1\n",
        "X_train = X_train/255\n",
        "X_test = X_test/255"
      ],
      "metadata": {
        "id": "IQP5_baKzawg"
      },
      "execution_count": null,
      "outputs": []
    },
    {
      "cell_type": "code",
      "source": [
        "# Ответы теперь не просто чисто, а вектор\n",
        "Y_train = np_utils.to_categorical(y_train, 10) #one hot incoding\n",
        "Y_test = np_utils.to_categorical(y_test, 10)#one hot incoding"
      ],
      "metadata": {
        "id": "_PNHNyY60bd4"
      },
      "execution_count": null,
      "outputs": []
    },
    {
      "cell_type": "code",
      "source": [
        "print(\"Получившийся вектор: \",Y_train[0])\n"
      ],
      "metadata": {
        "colab": {
          "base_uri": "https://localhost:8080/"
        },
        "id": "RqHP5pMGzk4u",
        "outputId": "97d3f160-c055-433e-d59f-b1cb8c1ce947"
      },
      "execution_count": null,
      "outputs": [
        {
          "output_type": "stream",
          "name": "stdout",
          "text": [
            "Получившийся вектор:  [0. 0. 0. 0. 0. 1. 0. 0. 0. 0.]\n"
          ]
        }
      ]
    },
    {
      "cell_type": "markdown",
      "source": [
        "\n",
        "MLP + ReLU +SGD\n",
        "\n"
      ],
      "metadata": {
        "id": "WwcMwlY30Cji"
      }
    },
    {
      "cell_type": "code",
      "source": [
        "output_dim = 10\n",
        "input_dim = X_train.shape[1]\n",
        "\n",
        "batch_size = 128 \n",
        "nb_epoch = 20\n"
      ],
      "metadata": {
        "id": "vFn3NsuH0QZq"
      },
      "execution_count": null,
      "outputs": []
    },
    {
      "cell_type": "code",
      "source": [
        "# 3 слоя.\n",
        "model_relu = Sequential()\n",
        "model_relu.add(Dense(512, activation='relu', input_shape=(input_dim,), kernel_initializer=RandomNormal(mean=0.0, stddev=0.062, seed=None))) # Входной \n",
        "model_relu.add(Dense(128, activation='relu', kernel_initializer=RandomNormal(mean=0.0, stddev=0.125, seed=None)) ) # Промежуточный\n",
        "\n",
        "model_relu.summary()"
      ],
      "metadata": {
        "colab": {
          "base_uri": "https://localhost:8080/"
        },
        "id": "xp4QZSS6z_cs",
        "outputId": "0ed8d47d-6a6d-40a7-aa06-fe3a108b457e"
      },
      "execution_count": null,
      "outputs": [
        {
          "output_type": "stream",
          "name": "stdout",
          "text": [
            "Model: \"sequential\"\n",
            "_________________________________________________________________\n",
            " Layer (type)                Output Shape              Param #   \n",
            "=================================================================\n",
            " dense (Dense)               (None, 512)               401920    \n",
            "                                                                 \n",
            " dense_1 (Dense)             (None, 128)               65664     \n",
            "                                                                 \n",
            " dense_2 (Dense)             (None, 10)                1290      \n",
            "                                                                 \n",
            "=================================================================\n",
            "Total params: 468,874\n",
            "Trainable params: 468,874\n",
            "Non-trainable params: 0\n",
            "_________________________________________________________________\n"
          ]
        }
      ]
    },
    {
      "cell_type": "code",
      "source": [
        "model_relu.compile(optimizer='sgd', loss='categorical_crossentropy', metrics=['accuracy'])\n",
        "\n",
        "# Обучение\n",
        "history = model_relu.fit(X_train, Y_train, batch_size=batch_size, epochs=nb_epoch, verbose=1, validation_data=(X_test, Y_test))"
      ],
      "metadata": {
        "colab": {
          "base_uri": "https://localhost:8080/"
        },
        "id": "TJ7uHlYM1sEE",
        "outputId": "087013ce-dfbf-4b31-f080-9411a168c079"
      },
      "execution_count": null,
      "outputs": [
        {
          "output_type": "stream",
          "name": "stdout",
          "text": [
            "Epoch 1/20\n",
            "469/469 [==============================] - 13s 24ms/step - loss: 0.7601 - accuracy: 0.7873 - val_loss: 0.3900 - val_accuracy: 0.8961\n",
            "Epoch 2/20\n",
            "469/469 [==============================] - 5s 10ms/step - loss: 0.3625 - accuracy: 0.8990 - val_loss: 0.3001 - val_accuracy: 0.9148\n",
            "Epoch 3/20\n",
            "469/469 [==============================] - 4s 8ms/step - loss: 0.2981 - accuracy: 0.9163 - val_loss: 0.2617 - val_accuracy: 0.9264\n",
            "Epoch 4/20\n",
            "469/469 [==============================] - 4s 8ms/step - loss: 0.2623 - accuracy: 0.9263 - val_loss: 0.2382 - val_accuracy: 0.9304\n",
            "Epoch 5/20\n",
            "469/469 [==============================] - 4s 8ms/step - loss: 0.2377 - accuracy: 0.9316 - val_loss: 0.2187 - val_accuracy: 0.9361\n",
            "Epoch 6/20\n",
            "469/469 [==============================] - 4s 8ms/step - loss: 0.2187 - accuracy: 0.9374 - val_loss: 0.2039 - val_accuracy: 0.9411\n",
            "Epoch 7/20\n",
            "469/469 [==============================] - 4s 8ms/step - loss: 0.2031 - accuracy: 0.9427 - val_loss: 0.1930 - val_accuracy: 0.9462\n",
            "Epoch 8/20\n",
            "469/469 [==============================] - 4s 8ms/step - loss: 0.1903 - accuracy: 0.9463 - val_loss: 0.1852 - val_accuracy: 0.9483\n",
            "Epoch 9/20\n",
            "469/469 [==============================] - 4s 8ms/step - loss: 0.1791 - accuracy: 0.9490 - val_loss: 0.1748 - val_accuracy: 0.9503\n",
            "Epoch 10/20\n",
            "469/469 [==============================] - 6s 12ms/step - loss: 0.1695 - accuracy: 0.9519 - val_loss: 0.1668 - val_accuracy: 0.9527\n",
            "Epoch 11/20\n",
            "469/469 [==============================] - 4s 9ms/step - loss: 0.1607 - accuracy: 0.9551 - val_loss: 0.1612 - val_accuracy: 0.9540\n",
            "Epoch 12/20\n",
            "469/469 [==============================] - 5s 10ms/step - loss: 0.1531 - accuracy: 0.9567 - val_loss: 0.1565 - val_accuracy: 0.9546\n",
            "Epoch 13/20\n",
            "469/469 [==============================] - 6s 12ms/step - loss: 0.1461 - accuracy: 0.9590 - val_loss: 0.1507 - val_accuracy: 0.9561\n",
            "Epoch 14/20\n",
            "469/469 [==============================] - 6s 12ms/step - loss: 0.1396 - accuracy: 0.9603 - val_loss: 0.1459 - val_accuracy: 0.9583\n",
            "Epoch 15/20\n",
            "469/469 [==============================] - 5s 10ms/step - loss: 0.1338 - accuracy: 0.9622 - val_loss: 0.1405 - val_accuracy: 0.9599\n",
            "Epoch 16/20\n",
            "469/469 [==============================] - 5s 10ms/step - loss: 0.1285 - accuracy: 0.9638 - val_loss: 0.1374 - val_accuracy: 0.9595\n",
            "Epoch 17/20\n",
            "469/469 [==============================] - 5s 10ms/step - loss: 0.1234 - accuracy: 0.9652 - val_loss: 0.1335 - val_accuracy: 0.9614\n",
            "Epoch 18/20\n",
            "469/469 [==============================] - 5s 10ms/step - loss: 0.1188 - accuracy: 0.9663 - val_loss: 0.1319 - val_accuracy: 0.9615\n",
            "Epoch 19/20\n",
            "469/469 [==============================] - 5s 10ms/step - loss: 0.1146 - accuracy: 0.9675 - val_loss: 0.1256 - val_accuracy: 0.9638\n",
            "Epoch 20/20\n",
            "469/469 [==============================] - 5s 10ms/step - loss: 0.1105 - accuracy: 0.9689 - val_loss: 0.1234 - val_accuracy: 0.9643\n"
          ]
        }
      ]
    },
    {
      "cell_type": "code",
      "source": [
        "score = model_relu.evaluate(X_test, Y_test, verbose=0) \n",
        "print('Точность на тестовых данных', score[1])"
      ],
      "metadata": {
        "id": "yR6YoO8z1sRk",
        "colab": {
          "base_uri": "https://localhost:8080/"
        },
        "outputId": "b80c899e-2e35-40e5-bad0-1cf74e229a15"
      },
      "execution_count": null,
      "outputs": [
        {
          "output_type": "stream",
          "name": "stdout",
          "text": [
            "Точность на тестовых данных 0.9642999768257141\n"
          ]
        }
      ]
    },
    {
      "cell_type": "code",
      "source": [],
      "metadata": {
        "id": "dt4KpmkD_oYq"
      },
      "execution_count": null,
      "outputs": []
    }
  ]
}